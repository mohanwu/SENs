{
 "cells": [
  {
   "cell_type": "markdown",
   "metadata": {
    "deletable": true,
    "editable": true
   },
   "source": [
    "# Nature Conservancy Fish Classification - Conv Model"
   ]
  },
  {
   "cell_type": "markdown",
   "metadata": {
    "deletable": true,
    "editable": true
   },
   "source": [
    "### Imports & environment"
   ]
  },
  {
   "cell_type": "code",
   "execution_count": 1,
   "metadata": {
    "collapsed": false,
    "deletable": true,
    "editable": true
   },
   "outputs": [
    {
     "name": "stderr",
     "output_type": "stream",
     "text": [
      "Using Theano backend.\n"
     ]
    }
   ],
   "source": [
    "import os\n",
    "\n",
    "from keras.callbacks import ModelCheckpoint\n",
    "from keras.layers import GlobalAveragePooling2D, Activation\n",
    "from keras.preprocessing.image import ImageDataGenerator\n",
    "\n",
    "from utils import * \n",
    "from vgg16bn import Vgg16BN\n",
    "\n",
    "ROOT_DIR = os.getcwd()\n",
    "DATA_HOME_DIR = ROOT_DIR + '/train'\n",
    "%matplotlib inline"
   ]
  },
  {
   "cell_type": "markdown",
   "metadata": {
    "deletable": true,
    "editable": true
   },
   "source": [
    "### Config & Hyperparameters"
   ]
  },
  {
   "cell_type": "code",
   "execution_count": 2,
   "metadata": {
    "collapsed": false,
    "deletable": true,
    "editable": true
   },
   "outputs": [],
   "source": [
    "# paths\n",
    "data_path = DATA_HOME_DIR + '/' \n",
    "split_train_path = data_path + 'train/'\n",
    "full_train_path = data_path + '/train_full/'\n",
    "valid_path = data_path + '/valid/'\n",
    "test_path = DATA_HOME_DIR + '/test/'\n",
    "model_path = ROOT_DIR + '/models/vggbn_conv_640x360/'\n",
    "submission_path = ROOT_DIR + '/submissions/vggbn_conv_640x360/'\n",
    "\n",
    "# data\n",
    "batch_size = 32\n",
    "nb_split_train_samples = 10 #3327\n",
    "nb_full_train_samples = 3777\n",
    "nb_valid_samples = 450\n",
    "nb_test_samples = 1000\n",
    "classes = [\"ALB\", \"BET\", \"DOL\", \"LAG\", \"NoF\", \"OTHER\", \"SHARK\", \"YFT\"]\n",
    "nb_classes = len(classes)\n",
    "\n",
    "# model\n",
    "nb_aug = 5\n",
    "n_filters = 158\n",
    "lr = 1e-3\n",
    "dropout = 0.5\n",
    "clip = 0.01"
   ]
  },
  {
   "cell_type": "code",
   "execution_count": 3,
   "metadata": {
    "collapsed": true,
    "deletable": true,
    "editable": true
   },
   "outputs": [],
   "source": [
    "def get_classes(trn_path, val_path, test_path):\n",
    "    batches = get_batches(trn_path, shuffle=False, batch_size=1)\n",
    "    val_batches = get_batches(val_path, shuffle=False, batch_size=1)\n",
    "    test_batches = get_batches(test_path, shuffle=False, batch_size=1)\n",
    "    return (val_batches.classes, batches.classes, onehot(val_batches.classes), onehot(batches.classes),\n",
    "        val_batches.filenames, batches.filenames, test_batches.filenames)"
   ]
  },
  {
   "cell_type": "code",
   "execution_count": 4,
   "metadata": {
    "collapsed": false,
    "deletable": true,
    "editable": true
   },
   "outputs": [
    {
     "name": "stdout",
     "output_type": "stream",
     "text": [
      "Found 3398 images belonging to 8 classes.\n",
      "Found 454 images belonging to 8 classes.\n",
      "Found 1000 images belonging to 1 classes.\n"
     ]
    }
   ],
   "source": [
    "(val_classes, trn_classes, val_labels, trn_labels, \n",
    "    val_filenames, filenames, test_filenames) = get_classes(split_train_path, valid_path, test_path)"
   ]
  },
  {
   "cell_type": "markdown",
   "metadata": {
    "deletable": true,
    "editable": true
   },
   "source": [
    "### Build Model and Precompute/Load Conv Features"
   ]
  },
  {
   "cell_type": "code",
   "execution_count": 5,
   "metadata": {
    "collapsed": false,
    "deletable": true,
    "editable": true
   },
   "outputs": [
    {
     "name": "stderr",
     "output_type": "stream",
     "text": [
      "/Users/PeterWang/Documents/code/ds/lib/python2.7/site-packages/keras/layers/core.py:640: UserWarning: `output_shape` argument not specified for layer lambda_1 and cannot be automatically inferred with the Theano backend. Defaulting to output shape `(None, 3, 360, 640)` (same as input shape). If the expected output shape is different, specify it via the `output_shape` argument.\n",
      "  .format(self.name, input_shape))\n",
      "vgg16bn.py:34: UserWarning: Update your `Conv2D` call to the Keras 2 API: `Conv2D(64, (3, 3), activation=\"relu\")`\n",
      "  model.add(Convolution2D(filters, 3, 3, activation='relu'))\n",
      "vgg16bn.py:34: UserWarning: Update your `Conv2D` call to the Keras 2 API: `Conv2D(128, (3, 3), activation=\"relu\")`\n",
      "  model.add(Convolution2D(filters, 3, 3, activation='relu'))\n",
      "vgg16bn.py:34: UserWarning: Update your `Conv2D` call to the Keras 2 API: `Conv2D(256, (3, 3), activation=\"relu\")`\n",
      "  model.add(Convolution2D(filters, 3, 3, activation='relu'))\n",
      "vgg16bn.py:34: UserWarning: Update your `Conv2D` call to the Keras 2 API: `Conv2D(512, (3, 3), activation=\"relu\")`\n",
      "  model.add(Convolution2D(filters, 3, 3, activation='relu'))\n"
     ]
    }
   ],
   "source": [
    "vgg640 = Vgg16BN((360, 640)).model\n",
    "vgg640.pop()\n",
    "vgg640.compile(Adam(), 'categorical_crossentropy', metrics=['accuracy'])"
   ]
  },
  {
   "cell_type": "code",
   "execution_count": null,
   "metadata": {
    "collapsed": false,
    "deletable": true,
    "editable": true
   },
   "outputs": [],
   "source": [
    "batches = get_batches(split_train_path, batch_size=1, target_size=(360, 640), shuffle=False,\n",
    "                      class_mode=None)\n",
    "\n",
    "def new_batches():\n",
    "    i = 0\n",
    "    for x in batches:\n",
    "        if i == 10:\n",
    "            break\n",
    "        yield x.reshape(3, 360, 640)\n",
    "        i += 1\n",
    "\n",
    "print 'batches updating.'\n",
    "batches = new_batches()\n",
    "print 'batches done.'\n",
    "conv_trn_feat = vgg640.predict_generator(batches, nb_split_train_samples)\n",
    "save_array(data_path + 'precomputed/trn_ft_640.dat', conv_trn_feat)\n",
    "\n",
    "del conv_trn_feat"
   ]
  },
  {
   "cell_type": "code",
   "execution_count": 7,
   "metadata": {
    "collapsed": false,
    "deletable": true,
    "editable": true
   },
   "outputs": [],
   "source": [
    "# val_batches = get_batches(valid_path, batch_size=1, target_size=(360, 640), shuffle=False,\n",
    "#                           class_mode=None)\n",
    "# conv_val_feat = vgg640.predict_generator(val_batches, nb_valid_samples)\n",
    "# save_array(data_path + 'precomputed/val_ft_640.dat', conv_val_feat)\n",
    "\n",
    "# del conv_val_feat"
   ]
  },
  {
   "cell_type": "code",
   "execution_count": 8,
   "metadata": {
    "collapsed": false,
    "deletable": true,
    "editable": true
   },
   "outputs": [],
   "source": [
    "# test_batches = get_batches(test_path, batch_size=1, target_size=(360, 640), shuffle=False,\n",
    "#                            class_mode=None)\n",
    "# conv_test_feat = vgg640.predict_generator(test_batches, nb_test_samples)\n",
    "# save_array(data_path+'precomputed/test_ft_640.dat', conv_test_feat)\n",
    "\n",
    "# del conv_test_feat"
   ]
  },
  {
   "cell_type": "code",
   "execution_count": 9,
   "metadata": {
    "collapsed": true,
    "deletable": true,
    "editable": true
   },
   "outputs": [],
   "source": [
    "conv_val_feat = load_array(data_path + 'precomputed/val_ft_640.dat')\n",
    "conv_trn_feat = load_array(data_path + 'precomputed/trn_ft_640.dat')\n",
    "conv_test_feat = load_array(data_path + 'precomputed/test_ft_640.dat')"
   ]
  },
  {
   "cell_type": "markdown",
   "metadata": {
    "deletable": true,
    "editable": true
   },
   "source": [
    "### Train Model"
   ]
  },
  {
   "cell_type": "code",
   "execution_count": 10,
   "metadata": {
    "collapsed": false,
    "deletable": true,
    "editable": true
   },
   "outputs": [],
   "source": [
    "conv_layers, _ = split_at(vgg640, Convolution2D)"
   ]
  },
  {
   "cell_type": "code",
   "execution_count": 11,
   "metadata": {
    "collapsed": true,
    "deletable": true,
    "editable": true
   },
   "outputs": [],
   "source": [
    "def get_lrg_layers():\n",
    "    return [\n",
    "        BatchNormalization(axis=1, input_shape=conv_layers[-1].output_shape[1:]),\n",
    "        Convolution2D(n_filters, 3, 3, activation='relu', border_mode='same'),\n",
    "        BatchNormalization(axis=1),\n",
    "        MaxPooling2D(),\n",
    "        Convolution2D(n_filters, 3, 3, activation='relu', border_mode='same'),\n",
    "        BatchNormalization(axis=1),\n",
    "        MaxPooling2D(),\n",
    "        Convolution2D(n_filters, 3, 3, activation='relu', border_mode='same'),\n",
    "        BatchNormalization(axis=1),\n",
    "        MaxPooling2D((1, 2)),\n",
    "        Convolution2D(8, 3, 3, border_mode='same'),\n",
    "        Dropout(dropout),\n",
    "        GlobalAveragePooling2D(),\n",
    "        Activation('softmax')\n",
    "    ]"
   ]
  },
  {
   "cell_type": "code",
   "execution_count": 12,
   "metadata": {
    "collapsed": false,
    "deletable": true,
    "editable": true
   },
   "outputs": [
    {
     "name": "stderr",
     "output_type": "stream",
     "text": [
      "/home/robert/anaconda3/lib/python3.5/site-packages/keras/backend/theano_backend.py:1500: UserWarning: DEPRECATION: the 'ds' parameter is not going to exist anymore as it is going to be replaced by the parameter 'ws'.\n",
      "  mode='max')\n",
      "/home/robert/anaconda3/lib/python3.5/site-packages/keras/backend/theano_backend.py:1500: UserWarning: DEPRECATION: the 'st' parameter is not going to exist anymore as it is going to be replaced by the parameter 'stride'.\n",
      "  mode='max')\n",
      "/home/robert/anaconda3/lib/python3.5/site-packages/keras/backend/theano_backend.py:1500: UserWarning: DEPRECATION: the 'padding' parameter is not going to exist anymore as it is going to be replaced by the parameter 'pad'.\n",
      "  mode='max')\n"
     ]
    },
    {
     "name": "stdout",
     "output_type": "stream",
     "text": [
      "____________________________________________________________________________________________________\n",
      "Layer (type)                     Output Shape          Param #     Connected to                     \n",
      "====================================================================================================\n",
      "batchnormalization_1 (BatchNormal(None, 512, 22, 40)   1024        batchnormalization_input_1[0][0] \n",
      "____________________________________________________________________________________________________\n",
      "convolution2d_14 (Convolution2D) (None, 158, 22, 40)   728222      batchnormalization_1[0][0]       \n",
      "____________________________________________________________________________________________________\n",
      "batchnormalization_2 (BatchNormal(None, 158, 22, 40)   316         convolution2d_14[0][0]           \n",
      "____________________________________________________________________________________________________\n",
      "maxpooling2d_6 (MaxPooling2D)    (None, 158, 11, 20)   0           batchnormalization_2[0][0]       \n",
      "____________________________________________________________________________________________________\n",
      "convolution2d_15 (Convolution2D) (None, 158, 11, 20)   224834      maxpooling2d_6[0][0]             \n",
      "____________________________________________________________________________________________________\n",
      "batchnormalization_3 (BatchNormal(None, 158, 11, 20)   316         convolution2d_15[0][0]           \n",
      "____________________________________________________________________________________________________\n",
      "maxpooling2d_7 (MaxPooling2D)    (None, 158, 5, 10)    0           batchnormalization_3[0][0]       \n",
      "____________________________________________________________________________________________________\n",
      "convolution2d_16 (Convolution2D) (None, 158, 5, 10)    224834      maxpooling2d_7[0][0]             \n",
      "____________________________________________________________________________________________________\n",
      "batchnormalization_4 (BatchNormal(None, 158, 5, 10)    316         convolution2d_16[0][0]           \n",
      "____________________________________________________________________________________________________\n",
      "maxpooling2d_8 (MaxPooling2D)    (None, 158, 5, 5)     0           batchnormalization_4[0][0]       \n",
      "____________________________________________________________________________________________________\n",
      "convolution2d_17 (Convolution2D) (None, 8, 5, 5)       11384       maxpooling2d_8[0][0]             \n",
      "____________________________________________________________________________________________________\n",
      "dropout_1 (Dropout)              (None, 8, 5, 5)       0           convolution2d_17[0][0]           \n",
      "____________________________________________________________________________________________________\n",
      "globalaveragepooling2d_1 (GlobalA(None, 8)             0           dropout_1[0][0]                  \n",
      "____________________________________________________________________________________________________\n",
      "activation_1 (Activation)        (None, 8)             0           globalaveragepooling2d_1[0][0]   \n",
      "====================================================================================================\n",
      "Total params: 1191246\n",
      "____________________________________________________________________________________________________\n"
     ]
    }
   ],
   "source": [
    "lrg_model = Sequential(get_lrg_layers())\n",
    "\n",
    "lrg_model.summary()"
   ]
  },
  {
   "cell_type": "code",
   "execution_count": 13,
   "metadata": {
    "collapsed": true,
    "deletable": true,
    "editable": true
   },
   "outputs": [],
   "source": [
    "lrg_model.compile(Adam(lr=lr), loss='categorical_crossentropy', metrics=['accuracy'])\n",
    "\n",
    "model_fn = model_path + '{val_loss:.2f}-loss_{epoch}epoch_640x360_vgg16bn.h5'\n",
    "ckpt = ModelCheckpoint(filepath=model_fn, monitor='val_loss',\n",
    "                       save_best_only=True, save_weights_only=True)"
   ]
  },
  {
   "cell_type": "code",
   "execution_count": 14,
   "metadata": {
    "collapsed": false,
    "deletable": true,
    "editable": true
   },
   "outputs": [
    {
     "name": "stdout",
     "output_type": "stream",
     "text": [
      "Train on 3327 samples, validate on 450 samples\n",
      "Epoch 1/2\n",
      "17s - loss: 0.7446 - acc: 0.7719 - val_loss: 1.6365 - val_acc: 0.6067\n",
      "Epoch 2/2\n",
      "17s - loss: 0.1966 - acc: 0.9534 - val_loss: 0.4040 - val_acc: 0.8444\n"
     ]
    },
    {
     "data": {
      "text/plain": [
       "<keras.callbacks.History at 0x7f17e4fd6278>"
      ]
     },
     "execution_count": 14,
     "metadata": {},
     "output_type": "execute_result"
    }
   ],
   "source": [
    "lrg_model.fit(conv_trn_feat, trn_labels, batch_size=batch_size, nb_epoch=2, verbose=2,\n",
    "             validation_data=(conv_val_feat, val_labels), callbacks=[ckpt])"
   ]
  },
  {
   "cell_type": "code",
   "execution_count": 15,
   "metadata": {
    "collapsed": false,
    "deletable": true,
    "editable": true
   },
   "outputs": [
    {
     "name": "stdout",
     "output_type": "stream",
     "text": [
      "Train on 3327 samples, validate on 450 samples\n",
      "Epoch 1/5\n",
      "17s - loss: 0.1241 - acc: 0.9684 - val_loss: 0.2563 - val_acc: 0.9089\n",
      "Epoch 2/5\n",
      "20s - loss: 0.0884 - acc: 0.9772 - val_loss: 0.1906 - val_acc: 0.9333\n",
      "Epoch 3/5\n",
      "20s - loss: 0.0628 - acc: 0.9838 - val_loss: 0.3516 - val_acc: 0.9156\n",
      "Epoch 4/5\n",
      "18s - loss: 0.0436 - acc: 0.9877 - val_loss: 0.1816 - val_acc: 0.9511\n",
      "Epoch 5/5\n",
      "16s - loss: 0.0279 - acc: 0.9919 - val_loss: 0.1982 - val_acc: 0.9489\n"
     ]
    },
    {
     "data": {
      "text/plain": [
       "<keras.callbacks.History at 0x7f17ddec4cc0>"
      ]
     },
     "execution_count": 15,
     "metadata": {},
     "output_type": "execute_result"
    }
   ],
   "source": [
    "lrg_model.optimizer.lr /= 10\n",
    "\n",
    "lrg_model.fit(conv_trn_feat, trn_labels, batch_size=batch_size, nb_epoch=5, verbose=2,\n",
    "             validation_data=(conv_val_feat, val_labels), callbacks=[ckpt])"
   ]
  },
  {
   "cell_type": "code",
   "execution_count": 16,
   "metadata": {
    "collapsed": false,
    "deletable": true,
    "editable": true
   },
   "outputs": [
    {
     "name": "stdout",
     "output_type": "stream",
     "text": [
      "Train on 3327 samples, validate on 450 samples\n",
      "Epoch 1/5\n",
      "16s - loss: 0.0536 - acc: 0.9844 - val_loss: 0.2889 - val_acc: 0.9311\n",
      "Epoch 2/5\n",
      "16s - loss: 0.0746 - acc: 0.9787 - val_loss: 0.2635 - val_acc: 0.9178\n",
      "Epoch 3/5\n",
      "16s - loss: 0.0472 - acc: 0.9871 - val_loss: 0.1677 - val_acc: 0.9489\n",
      "Epoch 4/5\n",
      "16s - loss: 0.0166 - acc: 0.9943 - val_loss: 0.1362 - val_acc: 0.9644\n",
      "Epoch 5/5\n",
      "16s - loss: 0.0066 - acc: 0.9985 - val_loss: 0.1114 - val_acc: 0.9667\n"
     ]
    },
    {
     "data": {
      "text/plain": [
       "<keras.callbacks.History at 0x7f17ddef22b0>"
      ]
     },
     "execution_count": 16,
     "metadata": {},
     "output_type": "execute_result"
    }
   ],
   "source": [
    "lrg_model.optimizer.lr /= 10\n",
    "\n",
    "lrg_model.fit(conv_trn_feat, trn_labels, batch_size=batch_size, nb_epoch=5, verbose=2,\n",
    "             validation_data=(conv_val_feat, val_labels), callbacks=[ckpt])"
   ]
  },
  {
   "cell_type": "code",
   "execution_count": 17,
   "metadata": {
    "collapsed": false,
    "deletable": true,
    "editable": true,
    "scrolled": true
   },
   "outputs": [
    {
     "name": "stdout",
     "output_type": "stream",
     "text": [
      "Train on 3327 samples, validate on 450 samples\n",
      "Epoch 1/5\n",
      "16s - loss: 0.0069 - acc: 0.9982 - val_loss: 0.0850 - val_acc: 0.9733\n",
      "Epoch 2/5\n",
      "36s - loss: 0.0181 - acc: 0.9970 - val_loss: 0.0896 - val_acc: 0.9711\n",
      "Epoch 3/5\n",
      "22s - loss: 0.0050 - acc: 0.9991 - val_loss: 0.0937 - val_acc: 0.9711\n",
      "Epoch 4/5\n",
      "19s - loss: 0.0028 - acc: 0.9991 - val_loss: 0.1420 - val_acc: 0.9689\n",
      "Epoch 5/5\n",
      "17s - loss: 0.0016 - acc: 0.9997 - val_loss: 0.0806 - val_acc: 0.9756\n"
     ]
    },
    {
     "data": {
      "text/plain": [
       "<keras.callbacks.History at 0x7f17ddef3320>"
      ]
     },
     "execution_count": 17,
     "metadata": {},
     "output_type": "execute_result"
    }
   ],
   "source": [
    "lrg_model.optimizer.lr /= 10\n",
    "\n",
    "lrg_model.fit(conv_trn_feat, trn_labels, batch_size=batch_size, nb_epoch=5, verbose=2,\n",
    "             validation_data=(conv_val_feat, val_labels), callbacks=[ckpt])"
   ]
  },
  {
   "cell_type": "code",
   "execution_count": 23,
   "metadata": {
    "collapsed": false,
    "deletable": true,
    "editable": true
   },
   "outputs": [
    {
     "name": "stdout",
     "output_type": "stream",
     "text": [
      "Found 1000 images belonging to 1 classes.\n",
      "Found 1000 images belonging to 1 classes.\n",
      "Found 1000 images belonging to 1 classes.\n",
      "Found 1000 images belonging to 1 classes.\n",
      "Found 1000 images belonging to 1 classes.\n"
     ]
    }
   ],
   "source": [
    "def gen_preds_from_saved(use_all=True, weights_file=None):\n",
    "    model = Sequential(get_lrg_layers())\n",
    "\n",
    "    if use_all:\n",
    "        preds = np.zeros((nb_test_samples, nb_classes))\n",
    "        \n",
    "        for root, dirs, files in os.walk(model_path):\n",
    "            n_mods = 0\n",
    "            for f in files:\n",
    "                model.load_weights(model_path + f)\n",
    "                preds += model.predict(conv_test_feat, batch_size=batch_size)\n",
    "                n_mods += 1\n",
    "\n",
    "        preds /= n_mods\n",
    "\n",
    "    else:\n",
    "        model.load_weights(model_path + weights_file)\n",
    "        preds = model.predict(conv_test_feat, batch_size=batch_size)\n",
    "        \n",
    "    return preds\n",
    "    \n",
    "\n",
    "    \n",
    "def gen_preds(model):\n",
    "    \n",
    "    if nb_aug:\n",
    "        \n",
    "        gen = ImageDataGenerator(rotation_range=10, width_shift_range=0.05, zoom_range=0.05,\n",
    "                                 channel_shift_range=10, height_shift_range=0.05, shear_range=0.05,\n",
    "                                 horizontal_flip=True)\n",
    "        predictions = np.zeros(shape=(nb_test_samples, nb_classes))\n",
    "        \n",
    "        for aug in range(nb_aug):\n",
    "            \n",
    "            test_batches = get_batches(test_path, batch_size=1, target_size=(360, 640), shuffle=False,\n",
    "                                       class_mode=None, gen=gen)\n",
    "            conv_test_feat = vgg640.predict_generator(test_batches, nb_test_samples)\n",
    "            predictions += model.predict(conv_test_feat, batch_size=batch_size)\n",
    "            \n",
    "        predictions /= nb_aug\n",
    "        \n",
    "    else:\n",
    "        predictions = model.predict(conv_test_feat, batch_size=batch_size)\n",
    "        \n",
    "    return predictions\n",
    "\n",
    "\n",
    "# preds = gen_preds_from_saved(use_all=True, weights_file=None)\n",
    "preds = gen_preds(lrg_model)"
   ]
  },
  {
   "cell_type": "code",
   "execution_count": 24,
   "metadata": {
    "collapsed": false,
    "deletable": true,
    "editable": true
   },
   "outputs": [
    {
     "name": "stdout",
     "output_type": "stream",
     "text": [
      "Writing Predictions to CSV...\n",
      "Done.\n"
     ]
    }
   ],
   "source": [
    "def write_submission(predictions, filenames):\n",
    "    preds = np.clip(predictions, clip, 1-clip)\n",
    "    sub_fn = submission_path + '{0}-aug_{1}clip_vgg_bn'.format(nb_aug, clip)\n",
    "\n",
    "    with open(sub_fn + '.csv', 'w') as f:\n",
    "        print(\"Writing Predictions to CSV...\")\n",
    "        f.write('image,ALB,BET,DOL,LAG,NoF,OTHER,SHARK,YFT\\n')\n",
    "        for i, image_name in enumerate(filenames):\n",
    "            pred = ['%.6f' % p for p in preds[i, :]]\n",
    "            f.write('%s,%s\\n' % (os.path.basename(image_name), ','.join(pred)))\n",
    "        print(\"Done.\")\n",
    "\n",
    "write_submission(preds, test_filenames)"
   ]
  }
 ],
 "metadata": {
  "anaconda-cloud": {},
  "kernelspec": {
   "display_name": "Python 2",
   "language": "python",
   "name": "python2"
  },
  "language_info": {
   "codemirror_mode": {
    "name": "ipython",
    "version": 2
   },
   "file_extension": ".py",
   "mimetype": "text/x-python",
   "name": "python",
   "nbconvert_exporter": "python",
   "pygments_lexer": "ipython2",
   "version": "2.7.10"
  }
 },
 "nbformat": 4,
 "nbformat_minor": 1
}
