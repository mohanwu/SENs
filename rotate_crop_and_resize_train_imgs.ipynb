{
 "cells": [
  {
   "cell_type": "code",
   "execution_count": null,
   "metadata": {
    "collapsed": true
   },
   "outputs": [],
   "source": [
    "from skimage.data import imread\n",
    "from skimage.io import imshow,imsave\n",
    "from skimage import img_as_float\n",
    "import pandas as pd\n",
    "import numpy as np\n",
    "import cv2\n",
    "from skimage.util import crop\n",
    "from skimage.transform import rotate\n",
    "from skimage.transform import resize\n",
    "import matplotlib.pyplot as plt\n",
    "%matplotlib inline\n",
    "import math"
   ]
  },
  {
   "cell_type": "code",
   "execution_count": null,
   "metadata": {
    "collapsed": true
   },
   "outputs": [],
   "source": [
    "def deg_angle_between(x1,y1,x2,y2):\n",
    "    from math import atan2, degrees, pi\n",
    "    dx = x2 - x1\n",
    "    dy = y2 - y1\n",
    "    rads = atan2(-dy,dx)\n",
    "    rads %= 2*pi\n",
    "    degs = degrees(rads)\n",
    "    return(degs)"
   ]
  },
  {
   "cell_type": "code",
   "execution_count": null,
   "metadata": {
    "collapsed": false
   },
   "outputs": [],
   "source": [
    "def get_rotated_cropped_fish(img,x1,y1,x2,y2):\n",
    "    (h,w) = img.shape[:2]\n",
    "    #calculate center and angle\n",
    "    center = ( (x1+x2) / 2,(y1+y2) / 2)\n",
    "    angle = np.floor(-deg_angle_between(x1,y1,x2,y2))\n",
    "    #print('angle=' +str(angle) + ' ')\n",
    "    #print('center=' +str(center))\n",
    "    M = cv2.getRotationMatrix2D(center, angle, 1.0)\n",
    "    rotated = cv2.warpAffine(img, M, (w, h))\n",
    "    \n",
    "    fish_length = np.sqrt((x1-x2)**2+(y1-y2)**2)\n",
    "    cropped = rotated[(max((center[1]-fish_length/1.8),0)):(max((center[1]+fish_length/1.8),0)) ,\n",
    "                      (max((center[0]- fish_length/1.8),0)):(max((center[0]+fish_length/1.8),0))]\n",
    "    #imshow(img)\n",
    "    #imshow(rotated)\n",
    "    #imshow(cropped)\n",
    "    resized = resize(cropped,(224,224))\n",
    "    return(resized)"
   ]
  },
  {
   "cell_type": "code",
   "execution_count": null,
   "metadata": {
    "collapsed": true
   },
   "outputs": [],
   "source": [
    "label_files = ['C:/Users/Mohan/Downloads/bet_labels.json',\n",
    "             'C:/Users/Mohan/Downloads/alb_labels.json',\n",
    "             'C:/Users/Mohan/Downloads/yft_labels.json',\n",
    "             'C:/Users/Mohan/Downloads/dol_labels.json',\n",
    "             'C:/Users/Mohan/Downloads/shark_labels.json',\n",
    "             'C:/Users/Mohan/Downloads/lag_labels.json',\n",
    "             'C:/Users/Mohan/Downloads/other_labels.json']\n",
    "\n",
    "data_dirs = ['C:/Users/Mohan/Downloads/train/BET/',\n",
    "             'C:/Users/Mohan/Downloads/train/ALB/',\n",
    "             'C:/Users/Mohan/Downloads/train/YFT/',\n",
    "             'C:/Users/Mohan/Downloads/train/DOL/',\n",
    "             'C:/Users/Mohan/Downloads/train/SHARK/',\n",
    "             'C:/Users/Mohan/Downloads/train/LAG/',\n",
    "             'C:/Users/Mohan/Downloads/train/OTHER/']\n"
   ]
  },
  {
   "cell_type": "code",
   "execution_count": null,
   "metadata": {
    "collapsed": false,
    "scrolled": false
   },
   "outputs": [],
   "source": [
    "images = list()\n",
    "labels_list = list()\n",
    "for c in range(7):\n",
    "    labels = pd.read_json(label_files[c])\n",
    "    for i in range(len(labels)):\n",
    "        try:\n",
    "            img_filename = labels.iloc[i,2]\n",
    "            print(img_filename)\n",
    "            l1 = pd.DataFrame((labels[labels.filename==img_filename].annotations).iloc[0])\n",
    "            image = imread(data_dirs[c]+img_filename)\n",
    "            images.append(get_rotated_cropped_fish(image,np.floor(l1.iloc[0,1]),np.floor(l1.iloc[0,2]),np.floor(l1.iloc[1,1]),np.floor(l1.iloc[1,2])))\n",
    "            print('success')\n",
    "            labels_list.append(c)\n",
    "        except:\n",
    "            pass"
   ]
  },
  {
   "cell_type": "code",
   "execution_count": null,
   "metadata": {
    "collapsed": false
   },
   "outputs": [],
   "source": [
    "labels =pd.read_json(label_files[0])\n",
    "img_filename = labels.iloc[1,2]\n",
    "print(img_filename)\n",
    "l1 = pd.DataFrame((labels[labels.filename==img_filename].annotations).iloc[0])\n",
    "image = imread(data_dirs[0]+img_filename)\n",
    "images.append(get_rotated_cropped_fish(image,np.floor(l1.iloc[0,1]),np.floor(l1.iloc[0,2]),np.floor(l1.iloc[1,1]),np.floor(l1.iloc[1,2])))\n",
    "print('success')            "
   ]
  },
  {
   "cell_type": "code",
   "execution_count": null,
   "metadata": {
    "collapsed": false,
    "scrolled": true
   },
   "outputs": [],
   "source": [
    "for i in range(len(images)):\n",
    "    imsave('C:/Users/Mohan/Downloads/train/cropped/ALB/img_'+str(i)+'label_'+str(labels_list[i])+'.jpg',images[i])"
   ]
  },
  {
   "cell_type": "code",
   "execution_count": null,
   "metadata": {
    "collapsed": false,
    "scrolled": false
   },
   "outputs": [],
   "source": [
    "#for i in range(50):\n",
    "#    fig,ax = plt.subplots(nrows=1,ncols=8,sharex=\"col\",sharey=\"row\",figsize=(24,3))\n",
    "#    fig.suptitle(str(labels_list[(i*8):(8+i*8)]),fontsize=16)\n",
    "#    for j in range(8):\n",
    "#        ax[j].imshow(images[j+i*5])"
   ]
  }
 ],
 "metadata": {
  "kernelspec": {
   "display_name": "Python 2",
   "language": "python",
   "name": "python2"
  },
  "language_info": {
   "codemirror_mode": {
    "name": "ipython",
    "version": 2
   },
   "file_extension": ".py",
   "mimetype": "text/x-python",
   "name": "python",
   "nbconvert_exporter": "python",
   "pygments_lexer": "ipython2",
   "version": "2.7.13"
  }
 },
 "nbformat": 4,
 "nbformat_minor": 1
}
