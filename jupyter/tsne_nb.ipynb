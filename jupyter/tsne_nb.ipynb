{
 "cells": [
  {
   "cell_type": "code",
   "execution_count": 22,
   "metadata": {
    "collapsed": true
   },
   "outputs": [],
   "source": [
    "import cropped_images"
   ]
  },
  {
   "cell_type": "code",
   "execution_count": 24,
   "metadata": {
    "collapsed": false
   },
   "outputs": [],
   "source": [
    "import numpy as np\n",
    "from sklearn.manifold import TSNE"
   ]
  },
  {
   "cell_type": "code",
   "execution_count": null,
   "metadata": {
    "collapsed": true
   },
   "outputs": [],
   "source": [
    "X_train, y_train, X_test, y_test = cropped_images.load_data()"
   ]
  },
  {
   "cell_type": "code",
   "execution_count": 25,
   "metadata": {
    "collapsed": true
   },
   "outputs": [],
   "source": [
    "X_train_std = X_train / 255.0"
   ]
  },
  {
   "cell_type": "code",
   "execution_count": 28,
   "metadata": {
    "collapsed": true
   },
   "outputs": [],
   "source": [
    "import crop_encoder_data\n",
    "#X_train are black and white images\n",
    "#Y_train are the cropped images"
   ]
  },
  {
   "cell_type": "code",
   "execution_count": 29,
   "metadata": {
    "collapsed": false
   },
   "outputs": [],
   "source": [
    "#suffix of ed corresponds to encoder data\n",
    "X_train_ed, y_train_ed, X_test_ed, y_test_ed = crop_encoder_data.load_data()"
   ]
  },
  {
   "cell_type": "code",
   "execution_count": 35,
   "metadata": {
    "collapsed": false
   },
   "outputs": [],
   "source": [
    "#suffix of edstd stands for ecoder data standardized\n",
    "X_train_edstd = X_train_ed / 255.0"
   ]
  },
  {
   "cell_type": "code",
   "execution_count": 54,
   "metadata": {
    "collapsed": false
   },
   "outputs": [],
   "source": [
    "def flatten_dataset(X):\n",
    "    num_img = X.shape[0]\n",
    "    height = X.shape[1]\n",
    "    width = X.shape[2]\n",
    "    flat = []\n",
    "    for i in range(num_img):\n",
    "        img = X[i]\n",
    "        sub_flat = []\n",
    "        for j in range(len(img)):\n",
    "            row = img[j]\n",
    "            for k in range(len(row)):\n",
    "                sub_flat.append(row[k])\n",
    "        flat.append(sub_flat)\n",
    "    return np.array(flat)"
   ]
  },
  {
   "cell_type": "code",
   "execution_count": 55,
   "metadata": {
    "collapsed": false
   },
   "outputs": [],
   "source": [
    "flat_X_train_edstd = flatten_dataset(X_train_edstd)"
   ]
  },
  {
   "cell_type": "code",
   "execution_count": 60,
   "metadata": {
    "collapsed": false
   },
   "outputs": [],
   "source": [
    "tsne = TSNE(n_components=2)\n",
    "embed_X_train_edstd = tsne.fit_transform(flat_X_train_edstd)"
   ]
  },
  {
   "cell_type": "code",
   "execution_count": 61,
   "metadata": {
    "collapsed": true
   },
   "outputs": [],
   "source": [
    "import plotly as py \n",
    "py.tools.set_credentials_file(username='sunil.mall', api_key='NPtnMQ0tGFxgpsrkuccP') \n",
    "import plotly.plotly as py \n",
    "py.sign_in(\"sunil.mall\", \"NPtnMQ0tGFxgpsrkuccP\") \n",
    "import plotly.graph_objs as go"
   ]
  },
  {
   "cell_type": "code",
   "execution_count": 62,
   "metadata": {
    "collapsed": true
   },
   "outputs": [],
   "source": [
    "red_x = [i[0] for i in embed_X_train_edstd]\n",
    "red_y = [i[1] for i in embed_X_train_edstd]"
   ]
  },
  {
   "cell_type": "code",
   "execution_count": 77,
   "metadata": {
    "collapsed": false
   },
   "outputs": [
    {
     "data": {
      "text/plain": [
       "(2095,)"
      ]
     },
     "execution_count": 77,
     "metadata": {},
     "output_type": "execute_result"
    }
   ],
   "source": [
    "np.array(red_x).shape"
   ]
  },
  {
   "cell_type": "code",
   "execution_count": 75,
   "metadata": {
    "collapsed": false
   },
   "outputs": [
    {
     "name": "stdout",
     "output_type": "stream",
     "text": [
      "High five! You successfuly sent some data to your account on plotly. View your plot in your browser at https://plot.ly/~sunil.mall/0 or inside your plot.ly account where it is named 'basic-scatter'\n"
     ]
    },
    {
     "data": {
      "text/html": [
       "<iframe id=\"igraph\" scrolling=\"no\" style=\"border:none;\" seamless=\"seamless\" src=\"https://plot.ly/~sunil.mall/0.embed\" height=\"525px\" width=\"100%\"></iframe>"
      ],
      "text/plain": [
       "<plotly.tools.PlotlyDisplay object>"
      ]
     },
     "execution_count": 75,
     "metadata": {},
     "output_type": "execute_result"
    }
   ],
   "source": [
    "trace = go.Scatter(\n",
    "    x = red_x,\n",
    "    y = red_y,\n",
    "    mode = 'markers',\n",
    "    marker = dict(size=2),\n",
    "    #text = flat_sub_y\n",
    ")\n",
    "\n",
    "data = [trace]\n",
    "\n",
    "py.iplot(data, filename='basic-scatter')"
   ]
  },
  {
   "cell_type": "code",
   "execution_count": 66,
   "metadata": {
    "collapsed": false
   },
   "outputs": [
    {
     "data": {
      "text/plain": [
       "(2095,)"
      ]
     },
     "execution_count": 66,
     "metadata": {},
     "output_type": "execute_result"
    }
   ],
   "source": [
    "tsne_2 = TSNE(n_)"
   ]
  },
  {
   "cell_type": "code",
   "execution_count": 67,
   "metadata": {
    "collapsed": true
   },
   "outputs": [],
   "source": [
    "y_train_edstd = y_train_ed / 255.0"
   ]
  },
  {
   "cell_type": "code",
   "execution_count": 68,
   "metadata": {
    "collapsed": false
   },
   "outputs": [
    {
     "data": {
      "text/plain": [
       "(2095, 64, 64)"
      ]
     },
     "execution_count": 68,
     "metadata": {},
     "output_type": "execute_result"
    }
   ],
   "source": [
    "y_train_edstd.shape"
   ]
  },
  {
   "cell_type": "code",
   "execution_count": 69,
   "metadata": {
    "collapsed": true
   },
   "outputs": [],
   "source": [
    "flat_y_train_edstd = flatten_dataset(y_train_edstd)"
   ]
  },
  {
   "cell_type": "code",
   "execution_count": 70,
   "metadata": {
    "collapsed": false
   },
   "outputs": [
    {
     "data": {
      "text/plain": [
       "(2095, 4096)"
      ]
     },
     "execution_count": 70,
     "metadata": {},
     "output_type": "execute_result"
    }
   ],
   "source": [
    "flat_y_train_edstd.shape"
   ]
  },
  {
   "cell_type": "code",
   "execution_count": 71,
   "metadata": {
    "collapsed": true
   },
   "outputs": [],
   "source": [
    "tsne_y = TSNE(n_components=2)\n",
    "embed_y_train_edstd = tsne_y.fit_transform(flat_y_train_edstd)"
   ]
  },
  {
   "cell_type": "code",
   "execution_count": 72,
   "metadata": {
    "collapsed": true
   },
   "outputs": [],
   "source": [
    "crop_red_x = [i[0] for i in embed_y_train_edstd]\n",
    "crop_red_y = [i[1] for i in embed_y_train_edstd]"
   ]
  },
  {
   "cell_type": "code",
   "execution_count": 76,
   "metadata": {
    "collapsed": false
   },
   "outputs": [
    {
     "data": {
      "text/plain": [
       "(2095,)"
      ]
     },
     "execution_count": 76,
     "metadata": {},
     "output_type": "execute_result"
    }
   ],
   "source": [
    "np.array(crop_red_x).shape"
   ]
  },
  {
   "cell_type": "code",
   "execution_count": 74,
   "metadata": {
    "collapsed": false
   },
   "outputs": [
    {
     "name": "stdout",
     "output_type": "stream",
     "text": [
      "High five! You successfuly sent some data to your account on plotly. View your plot in your browser at https://plot.ly/~sunil.mall/0 or inside your plot.ly account where it is named 'basic-scatter'\n"
     ]
    },
    {
     "data": {
      "text/html": [
       "<iframe id=\"igraph\" scrolling=\"no\" style=\"border:none;\" seamless=\"seamless\" src=\"https://plot.ly/~sunil.mall/0.embed\" height=\"525px\" width=\"100%\"></iframe>"
      ],
      "text/plain": [
       "<plotly.tools.PlotlyDisplay object>"
      ]
     },
     "execution_count": 74,
     "metadata": {},
     "output_type": "execute_result"
    }
   ],
   "source": [
    "trace_crop = go.Scatter(\n",
    "    x = crop_red_x,\n",
    "    y = crop_red_y,\n",
    "    mode = 'markers',\n",
    "    marker = dict(size=2),\n",
    "    #text = flat_sub_y\n",
    ")\n",
    "\n",
    "data_crop = [trace_crop]\n",
    "\n",
    "py.iplot(data_crop, filename='basic-scatter')"
   ]
  },
  {
   "cell_type": "code",
   "execution_count": 107,
   "metadata": {
    "collapsed": true
   },
   "outputs": [],
   "source": [
    "#crop_encoder_data.py\n",
    "import numpy as np\n",
    "def create_pickle():\n",
    "    import os\n",
    "    from PIL import Image\n",
    "    import pickle\n",
    "    np.random.seed(5)\n",
    "    print \"Creating Pickle\"\n",
    "    crop_folders = ['ALB', 'BET', 'DOL', 'LAG', 'SHARK', 'YFT']\n",
    "    X = []\n",
    "    Y = []\n",
    "    labels = []\n",
    "    img_data = {}\n",
    "    for (label,folder) in enumerate(crop_folders):\n",
    "        orig_file_names = os.listdir(os.getcwd()+\"/train/cropped/\"+folder+\"/\")\n",
    "        X += map(lambda x: os.getcwd()+\"/train/\"+folder+\"/\"+x, orig_file_names)\n",
    "        crop_file_names = map(lambda x: os.getcwd()+\"/train/cropped/\"+folder+\"/\"+x, orig_file_names)\n",
    "        Y += crop_file_names\n",
    "        labels += [label for x in xrange(len(crop_file_names))]\n",
    "\n",
    "\n",
    "    #Creates Images from filepaths\n",
    "    X = map(lambda f_name: np.asarray( Image.open(f_name).convert('L').resize((256,256)), dtype='uint8' ), X)\n",
    "    Y = map(lambda f_name: np.asarray( Image.open(f_name).convert('L'), dtype='uint8' ), Y)\n",
    "    X = np.asarray(X,dtype='uint8')\n",
    "    Y = np.asarray(Y,dtype='uint8')\n",
    "    labels = np.asarray(labels, dtype='uint8')\n",
    "    labels.shape = (1,labels.shape[0])\n",
    "\n",
    "    #Shuffles data\n",
    "    X_train,y_train,X_test,y_test,labels_train,labels_test = test_train_split(X,Y,labels, 0.7)\n",
    "\n",
    "    img_data['X_train'] = X_train\n",
    "    img_data['y_train'] = y_train\n",
    "    img_data['X_test'] = X_test\n",
    "    img_data['y_test'] = y_test\n",
    "    img_data['labels_train'] = labels_train\n",
    "    img_data['labels_test'] = labels_test\n",
    "    \n",
    "    with open('encoder_data.pkl', 'wb') as my_pickle:\n",
    "        pickle.dump(img_data,my_pickle)\n",
    "\n",
    "def load_data(perc=0.7):\n",
    "    import os\n",
    "    if(os.path.isfile(os.getcwd()+\"/encoder_data.pkl\") == False):\n",
    "        create_pickle()\n",
    "    import pickle\n",
    "    with open(\"encoder_data.pkl\",\"rb\") as img_f:\n",
    "        data = pickle.load(img_f)\n",
    "    return test_train_split(np.concatenate((data['X_train'],data['X_test']),axis=0),\n",
    "                    np.concatenate((data['y_train'],data['y_train']),axis=0), np.concatenate((data['labels_train'],data['labels_train']), axis=1),perc)\n",
    "\n",
    "def test_train_split(X_data,y_data,labels_data, percentage):\n",
    "    perm = np.random.permutation(np.arange(X_data.shape[0]))\n",
    "    X_data = X_data[perm,:]\n",
    "    y_data = y_data[perm,:]\n",
    "    labels_data = labels_data[:,perm]\n",
    "    train_size = int(X_data.shape[0]*percentage)\n",
    "\n",
    "    X_train = X_data[:train_size,:]\n",
    "    y_train = y_data[:train_size,:]\n",
    "    labels_train = labels_data[:,:train_size]\n",
    "    \n",
    "    X_test = X_data[train_size:,:]\n",
    "    y_test = y_data[train_size:,:]\n",
    "    labels_test = labels_data[:,train_size:]\n",
    "    \n",
    "    return (X_train,y_train,X_test,y_test, labels_train, labels_test)"
   ]
  },
  {
   "cell_type": "code",
   "execution_count": 109,
   "metadata": {
    "collapsed": false
   },
   "outputs": [
    {
     "name": "stdout",
     "output_type": "stream",
     "text": [
      "(1, 4190)\n"
     ]
    }
   ],
   "source": [
    "#suffix of ed corresponds to encoder data\n",
    "X_train_ed, y_train_ed, X_test_ed, y_test_ed, labels_train_ed, labels_test_ed = load_data()"
   ]
  },
  {
   "cell_type": "code",
   "execution_count": 110,
   "metadata": {
    "collapsed": true
   },
   "outputs": [],
   "source": [
    "#suffix of edstd stands for ecoder data standardized\n",
    "X_train_edstd = X_train_ed / 255.0"
   ]
  },
  {
   "cell_type": "code",
   "execution_count": 111,
   "metadata": {
    "collapsed": true
   },
   "outputs": [],
   "source": [
    "flat_X_train_edstd = flatten_dataset(X_train_edstd)"
   ]
  },
  {
   "cell_type": "code",
   "execution_count": 112,
   "metadata": {
    "collapsed": true
   },
   "outputs": [],
   "source": [
    "tsne = TSNE(n_components=2)\n",
    "embed_X_train_edstd = tsne.fit_transform(flat_X_train_edstd)"
   ]
  },
  {
   "cell_type": "code",
   "execution_count": 113,
   "metadata": {
    "collapsed": true
   },
   "outputs": [],
   "source": [
    "red_x = [i[0] for i in embed_X_train_edstd]\n",
    "red_y = [i[1] for i in embed_X_train_edstd]\n"
   ]
  },
  {
   "cell_type": "code",
   "execution_count": 128,
   "metadata": {
    "collapsed": true
   },
   "outputs": [],
   "source": [
    "lab = [i for i in labels_train_ed[0]]"
   ]
  },
  {
   "cell_type": "code",
   "execution_count": 118,
   "metadata": {
    "collapsed": false
   },
   "outputs": [
    {
     "data": {
      "text/plain": [
       "(1, 2095)"
      ]
     },
     "execution_count": 118,
     "metadata": {},
     "output_type": "execute_result"
    }
   ],
   "source": [
    "np.array(lab).shape"
   ]
  },
  {
   "cell_type": "code",
   "execution_count": 115,
   "metadata": {
    "collapsed": true
   },
   "outputs": [],
   "source": [
    "y_train_edstd = y_train_ed / 255.0\n",
    "flat_y_train_edstd = flatten_dataset(y_train_edstd)\n"
   ]
  },
  {
   "cell_type": "code",
   "execution_count": 116,
   "metadata": {
    "collapsed": true
   },
   "outputs": [],
   "source": [
    "tsne_y = TSNE(n_components=2)\n",
    "embed_y_train_edstd = tsne_y.fit_transform(flat_y_train_edstd)"
   ]
  },
  {
   "cell_type": "code",
   "execution_count": 117,
   "metadata": {
    "collapsed": true
   },
   "outputs": [],
   "source": [
    "crop_red_x = [i[0] for i in embed_y_train_edstd]\n",
    "crop_red_y = [i[1] for i in embed_y_train_edstd]"
   ]
  },
  {
   "cell_type": "code",
   "execution_count": 129,
   "metadata": {
    "collapsed": false
   },
   "outputs": [
    {
     "name": "stdout",
     "output_type": "stream",
     "text": [
      "High five! You successfuly sent some data to your account on plotly. View your plot in your browser at https://plot.ly/~sunil.mall/0 or inside your plot.ly account where it is named 'basic-scatter'\n"
     ]
    },
    {
     "data": {
      "text/html": [
       "<iframe id=\"igraph\" scrolling=\"no\" style=\"border:none;\" seamless=\"seamless\" src=\"https://plot.ly/~sunil.mall/0.embed\" height=\"525px\" width=\"100%\"></iframe>"
      ],
      "text/plain": [
       "<plotly.tools.PlotlyDisplay object>"
      ]
     },
     "execution_count": 129,
     "metadata": {},
     "output_type": "execute_result"
    }
   ],
   "source": [
    "trace = go.Scatter(\n",
    "    x = red_x,\n",
    "    y = red_y,\n",
    "    mode = 'markers',\n",
    "    marker = dict(size=2),\n",
    "    text = lab\n",
    ")\n",
    "\n",
    "data = [trace]\n",
    "\n",
    "py.iplot(data, filename='basic-scatter')"
   ]
  },
  {
   "cell_type": "code",
   "execution_count": 130,
   "metadata": {
    "collapsed": false
   },
   "outputs": [
    {
     "name": "stdout",
     "output_type": "stream",
     "text": [
      "High five! You successfuly sent some data to your account on plotly. View your plot in your browser at https://plot.ly/~sunil.mall/0 or inside your plot.ly account where it is named 'basic-scatter'\n"
     ]
    },
    {
     "data": {
      "text/html": [
       "<iframe id=\"igraph\" scrolling=\"no\" style=\"border:none;\" seamless=\"seamless\" src=\"https://plot.ly/~sunil.mall/0.embed\" height=\"525px\" width=\"100%\"></iframe>"
      ],
      "text/plain": [
       "<plotly.tools.PlotlyDisplay object>"
      ]
     },
     "execution_count": 130,
     "metadata": {},
     "output_type": "execute_result"
    }
   ],
   "source": [
    "trace_crop = go.Scatter(\n",
    "    x = crop_red_x,\n",
    "    y = crop_red_y,\n",
    "    mode = 'markers',\n",
    "    marker = dict(size=2),\n",
    "    text = lab\n",
    ")\n",
    "\n",
    "data_crop = [trace_crop]\n",
    "\n",
    "py.iplot(data_crop, filename='basic-scatter')"
   ]
  },
  {
   "cell_type": "code",
   "execution_count": 144,
   "metadata": {
    "collapsed": false
   },
   "outputs": [],
   "source": [
    "def seg_classes(x,y,lab):\n",
    "    #returns a dict with [[x_coords],[y_coords],[labels]]\n",
    "    \n",
    "    x_0 = []\n",
    "    x_1 = []\n",
    "    x_2 = []\n",
    "    x_3 = []\n",
    "    x_4 = []\n",
    "    x_5 = []\n",
    "    x_6 = []\n",
    "    y_0 = []\n",
    "    y_1 = []\n",
    "    y_2 = []\n",
    "    y_3 = []\n",
    "    y_4 = []\n",
    "    y_5 = []\n",
    "    y_6 = []\n",
    "    lab_0 = []\n",
    "    lab_1 = []\n",
    "    lab_2 = []\n",
    "    lab_3 = []\n",
    "    lab_4 = []\n",
    "    lab_5 = []\n",
    "    lab_6 = []\n",
    "    \n",
    "    for i in range(len(lab)):\n",
    "        \n",
    "        if lab[i] == 0:\n",
    "            x_0.append(x[i])\n",
    "            y_0.append(y[i])\n",
    "            lab_0.append(lab[i])\n",
    "        elif lab[i] == 1:\n",
    "            x_1.append(x[i])\n",
    "            y_1.append(y[i])\n",
    "            lab_1.append(lab[i])\n",
    "        elif lab[i] == 2:\n",
    "            x_2.append(x[i])\n",
    "            y_2.append(y[i])\n",
    "            lab_2.append(lab[i])\n",
    "        elif lab[i] == 3:\n",
    "            x_3.append(x[i])\n",
    "            y_3.append(y[i])\n",
    "            lab_3.append(lab[i])\n",
    "        elif lab[i] == 4:\n",
    "            x_4.append(x[i])\n",
    "            y_4.append(y[i])\n",
    "            lab_4.append(lab[i])\n",
    "        else:\n",
    "            x_5.append(x[i])\n",
    "            y_5.append(y[i])\n",
    "            lab_5.append(lab[i])\n",
    "    \n",
    "    class_0 = [x_0,y_0,lab_0]\n",
    "    class_1 = [x_1,y_1,lab_1]\n",
    "    class_2 = [x_2,y_2,lab_2]\n",
    "    class_3 = [x_3,y_3,lab_3]\n",
    "    class_4 = [x_4,y_4,lab_4]\n",
    "    class_5 = [x_5,y_5,lab_5]\n",
    "    \n",
    "    classes = {}\n",
    "    \n",
    "    classes[0] = class_0\n",
    "    classes[1] = class_1\n",
    "    classes[2] = class_2\n",
    "    classes[3] = class_3\n",
    "    classes[4] = class_4\n",
    "    classes[5] = class_5\n",
    "    \n",
    "    return classes\n",
    "        "
   ]
  },
  {
   "cell_type": "code",
   "execution_count": 145,
   "metadata": {
    "collapsed": false
   },
   "outputs": [],
   "source": [
    "class_dict_f = seg_classes(red_x,red_y,lab)\n",
    "class_dict_c = seg_classes(crop_red_x,crop_red_y,lab)"
   ]
  },
  {
   "cell_type": "code",
   "execution_count": 155,
   "metadata": {
    "collapsed": true
   },
   "outputs": [],
   "source": [
    "def create_trace(my_dict,key, trace_name):\n",
    "    \n",
    "    trace = go.Scatter(\n",
    "        x = my_dict[key][0],\n",
    "        y = my_dict[key][1],\n",
    "        mode = 'markers',\n",
    "        marker = dict(size=4),\n",
    "        text = my_dict[key][2],\n",
    "        name = trace_name\n",
    "    )\n",
    "    \n",
    "    return trace\n",
    "\n",
    "def create_traces(gen_dict):\n",
    "    names = {}\n",
    "    names[0] = \"ALB\"\n",
    "    names[1] = \"BET\"\n",
    "    names[2] = \"DOL\"\n",
    "    names[3] = \"LAG\"\n",
    "    names[4] = \"SHARK\"\n",
    "    names[5] = \"YFT\"\n",
    "    \n",
    "    traces = []\n",
    "    for i in gen_dict:\n",
    "        traces.append(create_trace(gen_dict,i, names[i]))\n",
    "        \n",
    "    return traces\n"
   ]
  },
  {
   "cell_type": "code",
   "execution_count": 156,
   "metadata": {
    "collapsed": true
   },
   "outputs": [],
   "source": [
    "traces_f = create_traces(class_dict_f)\n",
    "traces_c = create_traces(class_dict_c)\n",
    "\n",
    "data_f = [i for i in traces_f]\n",
    "data_c = [i for i in traces_c]\n",
    "\n"
   ]
  },
  {
   "cell_type": "code",
   "execution_count": 157,
   "metadata": {
    "collapsed": false
   },
   "outputs": [
    {
     "name": "stdout",
     "output_type": "stream",
     "text": [
      "High five! You successfuly sent some data to your account on plotly. View your plot in your browser at https://plot.ly/~sunil.mall/0 or inside your plot.ly account where it is named 'basic-scatter'\n"
     ]
    },
    {
     "data": {
      "text/html": [
       "<iframe id=\"igraph\" scrolling=\"no\" style=\"border:none;\" seamless=\"seamless\" src=\"https://plot.ly/~sunil.mall/0.embed\" height=\"525px\" width=\"100%\"></iframe>"
      ],
      "text/plain": [
       "<plotly.tools.PlotlyDisplay object>"
      ]
     },
     "execution_count": 157,
     "metadata": {},
     "output_type": "execute_result"
    }
   ],
   "source": [
    "py.iplot(data_f, filename='basic-scatter')"
   ]
  },
  {
   "cell_type": "code",
   "execution_count": 158,
   "metadata": {
    "collapsed": false
   },
   "outputs": [
    {
     "name": "stdout",
     "output_type": "stream",
     "text": [
      "High five! You successfuly sent some data to your account on plotly. View your plot in your browser at https://plot.ly/~sunil.mall/0 or inside your plot.ly account where it is named 'basic-scatter'\n"
     ]
    },
    {
     "data": {
      "text/html": [
       "<iframe id=\"igraph\" scrolling=\"no\" style=\"border:none;\" seamless=\"seamless\" src=\"https://plot.ly/~sunil.mall/0.embed\" height=\"525px\" width=\"100%\"></iframe>"
      ],
      "text/plain": [
       "<plotly.tools.PlotlyDisplay object>"
      ]
     },
     "execution_count": 158,
     "metadata": {},
     "output_type": "execute_result"
    }
   ],
   "source": [
    "py.iplot(data_c, filename='basic-scatter')"
   ]
  },
  {
   "cell_type": "code",
   "execution_count": null,
   "metadata": {
    "collapsed": true
   },
   "outputs": [],
   "source": []
  }
 ],
 "metadata": {
  "kernelspec": {
   "display_name": "Python 2",
   "language": "python",
   "name": "python2"
  },
  "language_info": {
   "codemirror_mode": {
    "name": "ipython",
    "version": 2
   },
   "file_extension": ".py",
   "mimetype": "text/x-python",
   "name": "python",
   "nbconvert_exporter": "python",
   "pygments_lexer": "ipython2",
   "version": "2.7.10"
  }
 },
 "nbformat": 4,
 "nbformat_minor": 1
}
