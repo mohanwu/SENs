{
 "cells": [
  {
   "cell_type": "markdown",
   "metadata": {
    "deletable": true,
    "editable": true
   },
   "source": [
    "# Nature Conservancy Fish Classification - Conv Model"
   ]
  },
  {
   "cell_type": "markdown",
   "metadata": {
    "deletable": true,
    "editable": true
   },
   "source": [
    "### Imports & environment"
   ]
  },
  {
   "cell_type": "code",
   "execution_count": 1,
   "metadata": {
    "collapsed": false,
    "deletable": true,
    "editable": true
   },
   "outputs": [
    {
     "name": "stderr",
     "output_type": "stream",
     "text": [
      "Using Theano backend.\n"
     ]
    }
   ],
   "source": [
    "import os\n",
    "\n",
    "from keras.callbacks import ModelCheckpoint\n",
    "from keras.layers import GlobalAveragePooling2D, Activation\n",
    "from keras.preprocessing.image import ImageDataGenerator\n",
    "\n",
    "from utils import * \n",
    "from vgg16bn import Vgg16BN\n",
    "\n",
    "%matplotlib inline\n",
    "os.chdir('C:/Users/Mohan/Downloads')\n",
    "ROOT_DIR = os.getcwd()\n",
    "DATA_HOME_DIR = ROOT_DIR + '/data2'"
   ]
  },
  {
   "cell_type": "code",
   "execution_count": 2,
   "metadata": {
    "collapsed": true
   },
   "outputs": [],
   "source": [
    "import os\n",
    "os.chdir('C:/Users/Mohan/Downloads')"
   ]
  },
  {
   "cell_type": "markdown",
   "metadata": {
    "deletable": true,
    "editable": true
   },
   "source": [
    "### Config & Hyperparameters"
   ]
  },
  {
   "cell_type": "code",
   "execution_count": 3,
   "metadata": {
    "collapsed": false,
    "deletable": true,
    "editable": true
   },
   "outputs": [],
   "source": [
    "# paths\n",
    "data_path = DATA_HOME_DIR +'/' \n",
    "split_train_path = data_path + '/train/'\n",
    "full_train_path = data_path + '/train_full/'\n",
    "valid_path = data_path + '/valid/'\n",
    "test_path = DATA_HOME_DIR + '/test/'\n",
    "model_path = ROOT_DIR + '/models/vggbn_conv_640x360/'\n",
    "submission_path = ROOT_DIR + '/submissions/vggbn_conv_640x360/'\n",
    "\n",
    "# data\n",
    "batch_size = 32\n",
    "nb_split_train_samples = 3327\n",
    "nb_full_train_samples = 3777\n",
    "nb_valid_samples = 450\n",
    "nb_test_samples = 1000\n",
    "classes = [\"ALB\", \"BET\", \"DOL\", \"LAG\", \"NoF\", \"OTHER\", \"SHARK\", \"YFT\"]\n",
    "nb_classes = len(classes)\n",
    "\n",
    "# model\n",
    "nb_aug = 5\n",
    "n_filters = 158\n",
    "lr = 1e-3\n",
    "dropout = 0.5\n",
    "clip = 0.01"
   ]
  },
  {
   "cell_type": "code",
   "execution_count": 4,
   "metadata": {
    "collapsed": true,
    "deletable": true,
    "editable": true
   },
   "outputs": [],
   "source": [
    "def get_classes(trn_path, val_path, test_path):\n",
    "    batches = get_batches(trn_path, shuffle=False, batch_size=1)\n",
    "    val_batches = get_batches(val_path, shuffle=False, batch_size=1)\n",
    "    test_batches = get_batches(test_path, shuffle=False, batch_size=1)\n",
    "    return (val_batches.classes, batches.classes, onehot(val_batches.classes), onehot(batches.classes),\n",
    "        val_batches.filenames, batches.filenames, test_batches.filenames)"
   ]
  },
  {
   "cell_type": "code",
   "execution_count": 5,
   "metadata": {
    "collapsed": false,
    "deletable": true,
    "editable": true,
    "scrolled": false
   },
   "outputs": [
    {
     "name": "stdout",
     "output_type": "stream",
     "text": [
      "Found 3327 images belonging to 8 classes.\n",
      "Found 415 images belonging to 8 classes.\n",
      "Found 1000 images belonging to 1 classes.\n"
     ]
    }
   ],
   "source": [
    "(val_classes, trn_classes, val_labels, trn_labels, \n",
    "    val_filenames, filenames, test_filenames) = get_classes(split_train_path, valid_path, test_path)"
   ]
  },
  {
   "cell_type": "markdown",
   "metadata": {
    "deletable": true,
    "editable": true
   },
   "source": [
    "### Build Model and Precompute/Load Conv Features"
   ]
  },
  {
   "cell_type": "code",
   "execution_count": 6,
   "metadata": {
    "collapsed": false,
    "deletable": true,
    "editable": true
   },
   "outputs": [
    {
     "name": "stderr",
     "output_type": "stream",
     "text": [
      "C:\\Users\\Mohan\\Anaconda3\\envs\\neuralnets\\lib\\site-packages\\keras\\layers\\core.py:640: UserWarning: `output_shape` argument not specified for layer lambda_1 and cannot be automatically inferred with the Theano backend. Defaulting to output shape `(None, 3, 270, 480)` (same as input shape). If the expected output shape is different, specify it via the `output_shape` argument.\n",
      "  .format(self.name, input_shape))\n",
      "C:\\Users\\Mohan\\Anaconda3\\envs\\neuralnets\\lib\\site-packages\\keras\\legacy\\interfaces.py:86: UserWarning: Update your `Conv2D` call to the Keras 2 API: `Conv2D(64, (3, 3), activation=\"relu\")`\n",
      "  '` call to the Keras 2 API: ' + signature)\n",
      "C:\\Users\\Mohan\\Anaconda3\\envs\\neuralnets\\lib\\site-packages\\keras\\legacy\\interfaces.py:86: UserWarning: Update your `Conv2D` call to the Keras 2 API: `Conv2D(64, (3, 3), activation=\"relu\")`\n",
      "  '` call to the Keras 2 API: ' + signature)\n",
      "C:\\Users\\Mohan\\Anaconda3\\envs\\neuralnets\\lib\\site-packages\\keras\\legacy\\interfaces.py:86: UserWarning: Update your `Conv2D` call to the Keras 2 API: `Conv2D(128, (3, 3), activation=\"relu\")`\n",
      "  '` call to the Keras 2 API: ' + signature)\n",
      "C:\\Users\\Mohan\\Anaconda3\\envs\\neuralnets\\lib\\site-packages\\keras\\legacy\\interfaces.py:86: UserWarning: Update your `Conv2D` call to the Keras 2 API: `Conv2D(256, (3, 3), activation=\"relu\")`\n",
      "  '` call to the Keras 2 API: ' + signature)\n",
      "C:\\Users\\Mohan\\Anaconda3\\envs\\neuralnets\\lib\\site-packages\\keras\\legacy\\interfaces.py:86: UserWarning: Update your `Conv2D` call to the Keras 2 API: `Conv2D(512, (3, 3), activation=\"relu\")`\n",
      "  '` call to the Keras 2 API: ' + signature)\n"
     ]
    },
    {
     "data": {
      "text/plain": [
       "((None, 3, 270, 480), (None, 0, 16, 512))"
      ]
     },
     "execution_count": 6,
     "metadata": {},
     "output_type": "execute_result"
    }
   ],
   "source": [
    "vgg640 = Vgg16BN((270, 480)).model\n",
    "vgg640.pop()\n",
    "vgg640.input_shape, vgg640.output_shape"
   ]
  },
  {
   "cell_type": "code",
   "execution_count": 7,
   "metadata": {
    "collapsed": true
   },
   "outputs": [],
   "source": [
    "vgg640.compile(Adam(), 'categorical_crossentropy', metrics=['accuracy'])"
   ]
  },
  {
   "cell_type": "code",
   "execution_count": null,
   "metadata": {
    "collapsed": false,
    "deletable": true,
    "editable": true,
    "scrolled": false
   },
   "outputs": [
    {
     "name": "stdout",
     "output_type": "stream",
     "text": [
      "Found 3327 images belonging to 8 classes.\n"
     ]
    }
   ],
   "source": [
    "batches = get_batches(split_train_path, batch_size=1, target_size=(270,480), shuffle=False,\n",
    "                   class_mode=None)\n",
    "conv_trn_feat = vgg640.predict_generator(batches, nb_split_train_samples)\n",
    "save_array(data_path + 'precomputed/trn_ft_640.dat', conv_trn_feat)\n",
    "\n",
    "del conv_trn_feat"
   ]
  },
  {
   "cell_type": "code",
   "execution_count": null,
   "metadata": {
    "collapsed": false,
    "deletable": true,
    "editable": true
   },
   "outputs": [
    {
     "name": "stdout",
     "output_type": "stream",
     "text": [
      "Found 450 images belonging to 8 classes.\n"
     ]
    }
   ],
   "source": [
    "val_batches = get_batches(valid_path, batch_size=1, target_size=(360, 640), shuffle=False,\n",
    "                           class_mode=None)\n",
    "conv_val_feat = vgg640.predict_generator(val_batches, nb_valid_samples)\n",
    "save_array(data_path + 'precomputed/val_ft_640.dat', conv_val_feat)\n",
    "del conv_val_feat"
   ]
  },
  {
   "cell_type": "code",
   "execution_count": 8,
   "metadata": {
    "collapsed": false,
    "deletable": true,
    "editable": true
   },
   "outputs": [],
   "source": [
    "# test_batches = get_batches(test_path, batch_size=1, target_size=(360, 640), shuffle=False,\n",
    "#                            class_mode=None)\n",
    "# conv_test_feat = vgg640.predict_generator(test_batches, nb_test_samples)\n",
    "# save_array(data_path+'precomputed/test_ft_640.dat', conv_test_feat)\n",
    "\n",
    "# del conv_test_feat"
   ]
  },
  {
   "cell_type": "code",
   "execution_count": 20,
   "metadata": {
    "collapsed": false,
    "deletable": true,
    "editable": true
   },
   "outputs": [
    {
     "ename": "FileNotFoundError",
     "evalue": "[Errno 2] No such file or directory: 'C:\\\\Users\\\\Mohan\\\\Downloads/data/precomputed/val_ft_640.dat\\\\meta\\\\sizes'",
     "output_type": "error",
     "traceback": [
      "\u001b[1;31m---------------------------------------------------------------------------\u001b[0m",
      "\u001b[1;31mFileNotFoundError\u001b[0m                         Traceback (most recent call last)",
      "\u001b[1;32m<ipython-input-20-f5e8134b26e6>\u001b[0m in \u001b[0;36m<module>\u001b[1;34m()\u001b[0m\n\u001b[1;32m----> 1\u001b[1;33m \u001b[0mconv_val_feat\u001b[0m \u001b[1;33m=\u001b[0m \u001b[0mload_array\u001b[0m\u001b[1;33m(\u001b[0m\u001b[0mdata_path\u001b[0m \u001b[1;33m+\u001b[0m \u001b[1;34m'precomputed/val_ft_640.dat'\u001b[0m\u001b[1;33m)\u001b[0m\u001b[1;33m\u001b[0m\u001b[0m\n\u001b[0m\u001b[0;32m      2\u001b[0m \u001b[0mconv_trn_feat\u001b[0m \u001b[1;33m=\u001b[0m \u001b[0mload_array\u001b[0m\u001b[1;33m(\u001b[0m\u001b[0mdata_path\u001b[0m \u001b[1;33m+\u001b[0m \u001b[1;34m'precomputed/trn_ft_640.dat'\u001b[0m\u001b[1;33m)\u001b[0m\u001b[1;33m\u001b[0m\u001b[0m\n\u001b[0;32m      3\u001b[0m \u001b[0mconv_test_feat\u001b[0m \u001b[1;33m=\u001b[0m \u001b[0mload_array\u001b[0m\u001b[1;33m(\u001b[0m\u001b[0mdata_path\u001b[0m \u001b[1;33m+\u001b[0m \u001b[1;34m'precomputed/test_ft_640.dat'\u001b[0m\u001b[1;33m)\u001b[0m\u001b[1;33m\u001b[0m\u001b[0m\n",
      "\u001b[1;32mC:\\Users\\Mohan\\Downloads\\utils.py\u001b[0m in \u001b[0;36mload_array\u001b[1;34m(fname)\u001b[0m\n\u001b[0;32m    128\u001b[0m \u001b[1;33m\u001b[0m\u001b[0m\n\u001b[0;32m    129\u001b[0m \u001b[1;32mdef\u001b[0m \u001b[0mload_array\u001b[0m\u001b[1;33m(\u001b[0m\u001b[0mfname\u001b[0m\u001b[1;33m)\u001b[0m\u001b[1;33m:\u001b[0m\u001b[1;33m\u001b[0m\u001b[0m\n\u001b[1;32m--> 130\u001b[1;33m     \u001b[1;32mreturn\u001b[0m \u001b[0mbcolz\u001b[0m\u001b[1;33m.\u001b[0m\u001b[0mopen\u001b[0m\u001b[1;33m(\u001b[0m\u001b[0mfname\u001b[0m\u001b[1;33m)\u001b[0m\u001b[1;33m[\u001b[0m\u001b[1;33m:\u001b[0m\u001b[1;33m]\u001b[0m\u001b[1;33m\u001b[0m\u001b[0m\n\u001b[0m\u001b[0;32m    131\u001b[0m \u001b[1;33m\u001b[0m\u001b[0m\n\u001b[0;32m    132\u001b[0m \u001b[1;33m\u001b[0m\u001b[0m\n",
      "\u001b[1;32mC:\\Users\\Mohan\\Anaconda3\\envs\\neuralnets\\lib\\site-packages\\bcolz\\toplevel.py\u001b[0m in \u001b[0;36mopen\u001b[1;34m(rootdir, mode)\u001b[0m\n\u001b[0;32m    131\u001b[0m         \u001b[1;32mreturn\u001b[0m \u001b[0mbcolz\u001b[0m\u001b[1;33m.\u001b[0m\u001b[0mctable\u001b[0m\u001b[1;33m(\u001b[0m\u001b[0mrootdir\u001b[0m\u001b[1;33m=\u001b[0m\u001b[0mrootdir\u001b[0m\u001b[1;33m,\u001b[0m \u001b[0mmode\u001b[0m\u001b[1;33m=\u001b[0m\u001b[0mmode\u001b[0m\u001b[1;33m)\u001b[0m\u001b[1;33m\u001b[0m\u001b[0m\n\u001b[0;32m    132\u001b[0m     \u001b[1;32melse\u001b[0m\u001b[1;33m:\u001b[0m\u001b[1;33m\u001b[0m\u001b[0m\n\u001b[1;32m--> 133\u001b[1;33m         \u001b[1;32mreturn\u001b[0m \u001b[0mbcolz\u001b[0m\u001b[1;33m.\u001b[0m\u001b[0mcarray\u001b[0m\u001b[1;33m(\u001b[0m\u001b[0mrootdir\u001b[0m\u001b[1;33m=\u001b[0m\u001b[0mrootdir\u001b[0m\u001b[1;33m,\u001b[0m \u001b[0mmode\u001b[0m\u001b[1;33m=\u001b[0m\u001b[0mmode\u001b[0m\u001b[1;33m)\u001b[0m\u001b[1;33m\u001b[0m\u001b[0m\n\u001b[0m\u001b[0;32m    134\u001b[0m \u001b[1;33m\u001b[0m\u001b[0m\n\u001b[0;32m    135\u001b[0m \u001b[1;33m\u001b[0m\u001b[0m\n",
      "\u001b[1;32mbcolz/carray_ext.pyx\u001b[0m in \u001b[0;36mbcolz.carray_ext.carray.__cinit__ (bcolz\\carray_ext.c:13429)\u001b[1;34m()\u001b[0m\n",
      "\u001b[1;32mbcolz/carray_ext.pyx\u001b[0m in \u001b[0;36mbcolz.carray_ext.carray._read_meta (bcolz\\carray_ext.c:17967)\u001b[1;34m()\u001b[0m\n",
      "\u001b[1;31mFileNotFoundError\u001b[0m: [Errno 2] No such file or directory: 'C:\\\\Users\\\\Mohan\\\\Downloads/data/precomputed/val_ft_640.dat\\\\meta\\\\sizes'"
     ]
    }
   ],
   "source": [
    "conv_val_feat = load_array(data_path + 'precomputed/val_ft_640.dat')\n",
    "conv_trn_feat = load_array(data_path + 'precomputed/trn_ft_640.dat')\n",
    "conv_test_feat = load_array(data_path + 'precomputed/test_ft_640.dat')"
   ]
  },
  {
   "cell_type": "markdown",
   "metadata": {
    "deletable": true,
    "editable": true
   },
   "source": [
    "### Train Model"
   ]
  },
  {
   "cell_type": "code",
   "execution_count": 9,
   "metadata": {
    "collapsed": false,
    "deletable": true,
    "editable": true
   },
   "outputs": [],
   "source": [
    "conv_layers, _ = split_at(vgg640, Convolution2D)"
   ]
  },
  {
   "cell_type": "code",
   "execution_count": 10,
   "metadata": {
    "collapsed": true,
    "deletable": true,
    "editable": true
   },
   "outputs": [],
   "source": [
    "def get_lrg_layers():\n",
    "    return [\n",
    "        BatchNormalization(axis=1, input_shape=conv_layers[-1].output_shape[1:]),\n",
    "        Convolution2D(n_filters, 3, 3, activation='relu', border_mode='same'),\n",
    "        BatchNormalization(axis=1),\n",
    "        MaxPooling2D(),\n",
    "        Convolution2D(n_filters, 3, 3, activation='relu', border_mode='same'),\n",
    "        BatchNormalization(axis=1),\n",
    "        MaxPooling2D(),\n",
    "        Convolution2D(n_filters, 3, 3, activation='relu', border_mode='same'),\n",
    "        BatchNormalization(axis=1),\n",
    "        MaxPooling2D((1, 2)),\n",
    "        Convolution2D(8, 3, 3, border_mode='same'),\n",
    "        Dropout(dropout),\n",
    "        GlobalAveragePooling2D(),\n",
    "        Activation('softmax')\n",
    "    ]"
   ]
  },
  {
   "cell_type": "code",
   "execution_count": 11,
   "metadata": {
    "collapsed": false,
    "deletable": true,
    "editable": true
   },
   "outputs": [
    {
     "name": "stderr",
     "output_type": "stream",
     "text": [
      "C:\\Users\\Mohan\\Anaconda3\\envs\\neuralnets\\lib\\site-packages\\keras\\legacy\\interfaces.py:86: UserWarning: Update your `Conv2D` call to the Keras 2 API: `Conv2D(158, (3, 3), padding=\"same\", activation=\"relu\")`\n",
      "  '` call to the Keras 2 API: ' + signature)\n",
      "C:\\Users\\Mohan\\Anaconda3\\envs\\neuralnets\\lib\\site-packages\\keras\\legacy\\interfaces.py:86: UserWarning: Update your `Conv2D` call to the Keras 2 API: `Conv2D(8, (3, 3), padding=\"same\")`\n",
      "  '` call to the Keras 2 API: ' + signature)\n"
     ]
    },
    {
     "name": "stdout",
     "output_type": "stream",
     "text": [
      "_________________________________________________________________\n",
      "Layer (type)                 Output Shape              Param #   \n",
      "=================================================================\n",
      "batch_normalization_1 (Batch (None, 0, 22, 512)        0         \n",
      "_________________________________________________________________\n",
      "conv2d_14 (Conv2D)           (None, 0, 22, 158)        728222    \n",
      "_________________________________________________________________\n",
      "batch_normalization_2 (Batch (None, 0, 22, 158)        0         \n",
      "_________________________________________________________________\n",
      "max_pooling2d_6 (MaxPooling2 (None, 0, 11, 158)        0         \n",
      "_________________________________________________________________\n",
      "conv2d_15 (Conv2D)           (None, 0, 11, 158)        224834    \n",
      "_________________________________________________________________\n",
      "batch_normalization_3 (Batch (None, 0, 11, 158)        0         \n",
      "_________________________________________________________________\n",
      "max_pooling2d_7 (MaxPooling2 (None, 0, 5, 158)         0         \n",
      "_________________________________________________________________\n",
      "conv2d_16 (Conv2D)           (None, 0, 5, 158)         224834    \n",
      "_________________________________________________________________\n",
      "batch_normalization_4 (Batch (None, 0, 5, 158)         0         \n",
      "_________________________________________________________________\n",
      "max_pooling2d_8 (MaxPooling2 (None, 0, 2, 158)         0         \n",
      "_________________________________________________________________\n",
      "conv2d_17 (Conv2D)           (None, 0, 2, 8)           11384     \n",
      "_________________________________________________________________\n",
      "dropout_1 (Dropout)          (None, 0, 2, 8)           0         \n",
      "_________________________________________________________________\n",
      "global_average_pooling2d_1 ( (None, 8)                 0         \n",
      "_________________________________________________________________\n",
      "activation_1 (Activation)    (None, 8)                 0         \n",
      "=================================================================\n",
      "Total params: 1,189,274.0\n",
      "Trainable params: 1,189,274.0\n",
      "Non-trainable params: 0.0\n",
      "_________________________________________________________________\n"
     ]
    }
   ],
   "source": [
    "lrg_model = Sequential(get_lrg_layers())\n",
    "\n",
    "lrg_model.summary()"
   ]
  },
  {
   "cell_type": "code",
   "execution_count": 18,
   "metadata": {
    "collapsed": true,
    "deletable": true,
    "editable": true
   },
   "outputs": [],
   "source": [
    "lrg_model.compile(Adam(lr=lr), loss='categorical_crossentropy', metrics=['accuracy'])\n",
    "\n",
    "model_fn = model_path + '{val_loss:.2f}-loss_{epoch}epoch_640x360_vgg16bn.h5'\n",
    "ckpt = ModelCheckpoint(filepath=model_fn, monitor='val_loss',\n",
    "                       save_best_only=True, save_weights_only=True)"
   ]
  },
  {
   "cell_type": "code",
   "execution_count": 19,
   "metadata": {
    "collapsed": false,
    "deletable": true,
    "editable": true
   },
   "outputs": [
    {
     "ename": "NameError",
     "evalue": "name 'conv_trn_feat' is not defined",
     "output_type": "error",
     "traceback": [
      "\u001b[1;31m---------------------------------------------------------------------------\u001b[0m",
      "\u001b[1;31mNameError\u001b[0m                                 Traceback (most recent call last)",
      "\u001b[1;32m<ipython-input-19-6555bcab50c2>\u001b[0m in \u001b[0;36m<module>\u001b[1;34m()\u001b[0m\n\u001b[1;32m----> 1\u001b[1;33m lrg_model.fit(conv_trn_feat, trn_labels, batch_size=batch_size, nb_epoch=2, verbose=2,\n\u001b[0m\u001b[0;32m      2\u001b[0m              validation_data=(conv_val_feat, val_labels), callbacks=[ckpt])\n",
      "\u001b[1;31mNameError\u001b[0m: name 'conv_trn_feat' is not defined"
     ]
    }
   ],
   "source": [
    "lrg_model.fit(conv_trn_feat, trn_labels, batch_size=batch_size, nb_epoch=2, verbose=2,\n",
    "             validation_data=(conv_val_feat, val_labels), callbacks=[ckpt])"
   ]
  },
  {
   "cell_type": "code",
   "execution_count": 15,
   "metadata": {
    "collapsed": false,
    "deletable": true,
    "editable": true
   },
   "outputs": [
    {
     "name": "stdout",
     "output_type": "stream",
     "text": [
      "Train on 3327 samples, validate on 450 samples\n",
      "Epoch 1/5\n",
      "17s - loss: 0.1241 - acc: 0.9684 - val_loss: 0.2563 - val_acc: 0.9089\n",
      "Epoch 2/5\n",
      "20s - loss: 0.0884 - acc: 0.9772 - val_loss: 0.1906 - val_acc: 0.9333\n",
      "Epoch 3/5\n",
      "20s - loss: 0.0628 - acc: 0.9838 - val_loss: 0.3516 - val_acc: 0.9156\n",
      "Epoch 4/5\n",
      "18s - loss: 0.0436 - acc: 0.9877 - val_loss: 0.1816 - val_acc: 0.9511\n",
      "Epoch 5/5\n",
      "16s - loss: 0.0279 - acc: 0.9919 - val_loss: 0.1982 - val_acc: 0.9489\n"
     ]
    },
    {
     "data": {
      "text/plain": [
       "<keras.callbacks.History at 0x7f17ddec4cc0>"
      ]
     },
     "execution_count": 15,
     "metadata": {},
     "output_type": "execute_result"
    }
   ],
   "source": [
    "lrg_model.optimizer.lr /= 10\n",
    "\n",
    "lrg_model.fit(conv_trn_feat, trn_labels, batch_size=batch_size, nb_epoch=5, verbose=2,\n",
    "             validation_data=(conv_val_feat, val_labels), callbacks=[ckpt])"
   ]
  },
  {
   "cell_type": "code",
   "execution_count": 16,
   "metadata": {
    "collapsed": false,
    "deletable": true,
    "editable": true
   },
   "outputs": [
    {
     "name": "stdout",
     "output_type": "stream",
     "text": [
      "Train on 3327 samples, validate on 450 samples\n",
      "Epoch 1/5\n",
      "16s - loss: 0.0536 - acc: 0.9844 - val_loss: 0.2889 - val_acc: 0.9311\n",
      "Epoch 2/5\n",
      "16s - loss: 0.0746 - acc: 0.9787 - val_loss: 0.2635 - val_acc: 0.9178\n",
      "Epoch 3/5\n",
      "16s - loss: 0.0472 - acc: 0.9871 - val_loss: 0.1677 - val_acc: 0.9489\n",
      "Epoch 4/5\n",
      "16s - loss: 0.0166 - acc: 0.9943 - val_loss: 0.1362 - val_acc: 0.9644\n",
      "Epoch 5/5\n",
      "16s - loss: 0.0066 - acc: 0.9985 - val_loss: 0.1114 - val_acc: 0.9667\n"
     ]
    },
    {
     "data": {
      "text/plain": [
       "<keras.callbacks.History at 0x7f17ddef22b0>"
      ]
     },
     "execution_count": 16,
     "metadata": {},
     "output_type": "execute_result"
    }
   ],
   "source": [
    "lrg_model.optimizer.lr /= 10\n",
    "\n",
    "lrg_model.fit(conv_trn_feat, trn_labels, batch_size=batch_size, nb_epoch=5, verbose=2,\n",
    "             validation_data=(conv_val_feat, val_labels), callbacks=[ckpt])"
   ]
  },
  {
   "cell_type": "code",
   "execution_count": 17,
   "metadata": {
    "collapsed": false,
    "deletable": true,
    "editable": true,
    "scrolled": true
   },
   "outputs": [
    {
     "name": "stdout",
     "output_type": "stream",
     "text": [
      "Train on 3327 samples, validate on 450 samples\n",
      "Epoch 1/5\n",
      "16s - loss: 0.0069 - acc: 0.9982 - val_loss: 0.0850 - val_acc: 0.9733\n",
      "Epoch 2/5\n",
      "36s - loss: 0.0181 - acc: 0.9970 - val_loss: 0.0896 - val_acc: 0.9711\n",
      "Epoch 3/5\n",
      "22s - loss: 0.0050 - acc: 0.9991 - val_loss: 0.0937 - val_acc: 0.9711\n",
      "Epoch 4/5\n",
      "19s - loss: 0.0028 - acc: 0.9991 - val_loss: 0.1420 - val_acc: 0.9689\n",
      "Epoch 5/5\n",
      "17s - loss: 0.0016 - acc: 0.9997 - val_loss: 0.0806 - val_acc: 0.9756\n"
     ]
    },
    {
     "data": {
      "text/plain": [
       "<keras.callbacks.History at 0x7f17ddef3320>"
      ]
     },
     "execution_count": 17,
     "metadata": {},
     "output_type": "execute_result"
    }
   ],
   "source": [
    "lrg_model.optimizer.lr /= 10\n",
    "\n",
    "lrg_model.fit(conv_trn_feat, trn_labels, batch_size=batch_size, nb_epoch=5, verbose=2,\n",
    "             validation_data=(conv_val_feat, val_labels), callbacks=[ckpt])"
   ]
  },
  {
   "cell_type": "code",
   "execution_count": 23,
   "metadata": {
    "collapsed": false,
    "deletable": true,
    "editable": true
   },
   "outputs": [
    {
     "name": "stdout",
     "output_type": "stream",
     "text": [
      "Found 1000 images belonging to 1 classes.\n",
      "Found 1000 images belonging to 1 classes.\n",
      "Found 1000 images belonging to 1 classes.\n",
      "Found 1000 images belonging to 1 classes.\n",
      "Found 1000 images belonging to 1 classes.\n"
     ]
    }
   ],
   "source": [
    "def gen_preds_from_saved(use_all=True, weights_file=None):\n",
    "    model = Sequential(get_lrg_layers())\n",
    "\n",
    "    if use_all:\n",
    "        preds = np.zeros((nb_test_samples, nb_classes))\n",
    "        \n",
    "        for root, dirs, files in os.walk(model_path):\n",
    "            n_mods = 0\n",
    "            for f in files:\n",
    "                model.load_weights(model_path + f)\n",
    "                preds += model.predict(conv_test_feat, batch_size=batch_size)\n",
    "                n_mods += 1\n",
    "\n",
    "        preds /= n_mods\n",
    "\n",
    "    else:\n",
    "        model.load_weights(model_path + weights_file)\n",
    "        preds = model.predict(conv_test_feat, batch_size=batch_size)\n",
    "        \n",
    "    return preds\n",
    "    \n",
    "\n",
    "    \n",
    "def gen_preds(model):\n",
    "    \n",
    "    if nb_aug:\n",
    "        \n",
    "        gen = ImageDataGenerator(rotation_range=10, width_shift_range=0.05, zoom_range=0.05,\n",
    "                                 channel_shift_range=10, height_shift_range=0.05, shear_range=0.05,\n",
    "                                 horizontal_flip=True)\n",
    "        predictions = np.zeros(shape=(nb_test_samples, nb_classes))\n",
    "        \n",
    "        for aug in range(nb_aug):\n",
    "            \n",
    "            test_batches = get_batches(test_path, batch_size=1, target_size=(360, 640), shuffle=False,\n",
    "                                       class_mode=None, gen=gen)\n",
    "            conv_test_feat = vgg640.predict_generator(test_batches, nb_test_samples)\n",
    "            predictions += model.predict(conv_test_feat, batch_size=batch_size)\n",
    "            \n",
    "        predictions /= nb_aug\n",
    "        \n",
    "    else:\n",
    "        predictions = model.predict(conv_test_feat, batch_size=batch_size)\n",
    "        \n",
    "    return predictions\n",
    "\n",
    "\n",
    "# preds = gen_preds_from_saved(use_all=True, weights_file=None)\n",
    "preds = gen_preds(lrg_model)"
   ]
  },
  {
   "cell_type": "code",
   "execution_count": 24,
   "metadata": {
    "collapsed": false,
    "deletable": true,
    "editable": true
   },
   "outputs": [
    {
     "name": "stdout",
     "output_type": "stream",
     "text": [
      "Writing Predictions to CSV...\n",
      "Done.\n"
     ]
    }
   ],
   "source": [
    "def write_submission(predictions, filenames):\n",
    "    preds = np.clip(predictions, clip, 1-clip)\n",
    "    sub_fn = submission_path + '{0}-aug_{1}clip_vgg_bn'.format(nb_aug, clip)\n",
    "\n",
    "    with open(sub_fn + '.csv', 'w') as f:\n",
    "        print(\"Writing Predictions to CSV...\")\n",
    "        f.write('image,ALB,BET,DOL,LAG,NoF,OTHER,SHARK,YFT\\n')\n",
    "        for i, image_name in enumerate(filenames):\n",
    "            pred = ['%.6f' % p for p in preds[i, :]]\n",
    "            f.write('%s,%s\\n' % (os.path.basename(image_name), ','.join(pred)))\n",
    "        print(\"Done.\")\n",
    "\n",
    "write_submission(preds, test_filenames)"
   ]
  }
 ],
 "metadata": {
  "anaconda-cloud": {},
  "kernelspec": {
   "display_name": "Python 3",
   "language": "python",
   "name": "python3"
  },
  "language_info": {
   "codemirror_mode": {
    "name": "ipython",
    "version": 3
   },
   "file_extension": ".py",
   "mimetype": "text/x-python",
   "name": "python",
   "nbconvert_exporter": "python",
   "pygments_lexer": "ipython3",
   "version": "3.5.3"
  }
 },
 "nbformat": 4,
 "nbformat_minor": 1
}
